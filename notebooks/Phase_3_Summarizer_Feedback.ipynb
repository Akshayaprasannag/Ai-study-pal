{
 "cells": [
  {
   "cell_type": "code",
   "execution_count": 2,
   "id": "6b6602f5",
   "metadata": {},
   "outputs": [
    {
     "name": "stdout",
     "output_type": "stream",
     "text": [
      "✅ TensorFlow version: 2.20.0\n"
     ]
    }
   ],
   "source": [
    "# =============================================\n",
    "# AI Study Pal - Phase 3: DL Summarizer & Feedback\n",
    "# =============================================\n",
    "\n",
    "# 1️⃣ Import Libraries\n",
    "import numpy as np\n",
    "import pandas as pd\n",
    "import tensorflow as tf\n",
    "from tensorflow.keras.models import Sequential\n",
    "from tensorflow.keras.layers import Dense, LSTM, Embedding, Input\n",
    "from tensorflow.keras.preprocessing.text import Tokenizer\n",
    "from tensorflow.keras.preprocessing.sequence import pad_sequences\n",
    "\n",
    "print(\"✅ TensorFlow version:\", tf.__version__)\n"
   ]
  },
  {
   "cell_type": "code",
   "execution_count": 4,
   "id": "26b1462a",
   "metadata": {},
   "outputs": [
    {
     "name": "stdout",
     "output_type": "stream",
     "text": [
      "📝 Text: Mathematics improves logical thinking and problem solving.\n",
      "📄 Predicted Summary: Mathematics teaches problem-solving and analytical thinking.\n",
      "--------------------------------------------------\n",
      "📝 Text: Science helps understand the natural world.\n",
      "📄 Predicted Summary: Science develops curiosity and understanding through experiments.\n",
      "--------------------------------------------------\n",
      "💬 Feedback: Keep it up!\n",
      "💬 Feedback: Keep practicing!\n",
      "💬 Feedback: Keep it up!\n"
     ]
    }
   ],
   "source": [
    "# =============================================\n",
    "# AI Study Pal - Phase 3: Simple Summarizer & Feedback (Dense Version)\n",
    "# =============================================\n",
    "\n",
    "import numpy as np\n",
    "import pandas as pd\n",
    "from sklearn.feature_extraction.text import CountVectorizer\n",
    "from sklearn.preprocessing import LabelEncoder\n",
    "from sklearn.neural_network import MLPClassifier\n",
    "import random\n",
    "\n",
    "# 1️⃣ Sample Texts and Summaries\n",
    "texts = [\n",
    "    \"Mathematics is the study of numbers, shapes, and logical patterns. It improves problem-solving and analytical thinking.\",\n",
    "    \"Science explores the natural world through observation and experiments. It enhances curiosity and understanding.\"\n",
    "]\n",
    "\n",
    "summaries = [\n",
    "    \"Mathematics teaches problem-solving and analytical thinking.\",\n",
    "    \"Science develops curiosity and understanding through experiments.\"\n",
    "]\n",
    "\n",
    "# 2️⃣ Convert text to feature vectors\n",
    "vectorizer = CountVectorizer()\n",
    "X = vectorizer.fit_transform(texts)\n",
    "\n",
    "# Encode summaries as integer labels (simplified for demo)\n",
    "encoder = LabelEncoder()\n",
    "y = encoder.fit_transform(summaries)\n",
    "\n",
    "# 3️⃣ Build & Train a simple MLP model\n",
    "model = MLPClassifier(hidden_layer_sizes=(32,), max_iter=500)\n",
    "model.fit(X, y)\n",
    "\n",
    "# 4️⃣ Generate summaries for new texts\n",
    "new_texts = [\n",
    "    \"Mathematics improves logical thinking and problem solving.\",\n",
    "    \"Science helps understand the natural world.\"\n",
    "]\n",
    "\n",
    "X_new = vectorizer.transform(new_texts)\n",
    "y_pred = model.predict(X_new)\n",
    "summaries_pred = encoder.inverse_transform(y_pred)\n",
    "\n",
    "for text, summary in zip(new_texts, summaries_pred):\n",
    "    print(\"📝 Text:\", text)\n",
    "    print(\"📄 Predicted Summary:\", summary)\n",
    "    print(\"-\"*50)\n",
    "\n",
    "# 5️⃣ Motivational Feedback Generator\n",
    "feedback_messages = [\n",
    "    \"Keep it up!\", \n",
    "    \"Good job on your study!\", \n",
    "    \"You’re doing great!\", \n",
    "    \"Well done!\", \n",
    "    \"Keep practicing!\"\n",
    "]\n",
    "\n",
    "def get_feedback():\n",
    "    return random.choice(feedback_messages)\n",
    "\n",
    "# Example feedback\n",
    "for i in range(3):\n",
    "    print(\"💬 Feedback:\", get_feedback())\n"
   ]
  }
 ],
 "metadata": {
  "kernelspec": {
   "display_name": "venv",
   "language": "python",
   "name": "python3"
  },
  "language_info": {
   "codemirror_mode": {
    "name": "ipython",
    "version": 3
   },
   "file_extension": ".py",
   "mimetype": "text/x-python",
   "name": "python",
   "nbconvert_exporter": "python",
   "pygments_lexer": "ipython3",
   "version": "3.13.2"
  }
 },
 "nbformat": 4,
 "nbformat_minor": 5
}
